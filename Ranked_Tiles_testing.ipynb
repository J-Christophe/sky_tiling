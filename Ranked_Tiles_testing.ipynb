{
 "cells": [
  {
   "cell_type": "code",
   "execution_count": null,
   "metadata": {
    "collapsed": true
   },
   "outputs": [],
   "source": [
    "import numpy as np\n",
    "import rankedTilesGenerator"
   ]
  },
  {
   "cell_type": "code",
   "execution_count": null,
   "metadata": {
    "collapsed": true
   },
   "outputs": [],
   "source": [
    "skymap_file = 'bayestar.fits.gz'\n",
    "ZTF_tile_file = 'ZTF_tiles_set1_nowrap_indexed.dat'\n",
    "ATLAS_tile_file = 'ATLAS_tiles_indexed.dat'"
   ]
  },
  {
   "cell_type": "code",
   "execution_count": null,
   "metadata": {},
   "outputs": [],
   "source": [
    "ztf_tileObj = rankedTilesGenerator.RankedTileGenerator(skymap_file)\n",
    "[ztf_ranked_tile_indices, ztf_ranked_tile_probs] = ztf_tileObj.getRankedTiles(resolution=256)\n",
    "ztf_tileObj.plotTiles(ztf_ranked_tile_indices, ztf_ranked_tile_probs, ZTF_tile_file, FOV=47.93, tileEdges=True)\n"
   ]
  },
  {
   "cell_type": "code",
   "execution_count": null,
   "metadata": {},
   "outputs": [],
   "source": [
    "# atlas_tileObj = rankedTilesGenerator.RankedTileGenerator(skymap_file, preComputed_64='preComputed_ATLAS_pixel_indices_64.dat', \n",
    "#                                                   preComputed_128='preComputed_ATLAS_pixel_indices_128.dat',\n",
    "#                                                   preComputed_256='preComputed_ATLAS_pixel_indices_256.dat',\n",
    "#                                                   preComputed_512='preComputed_ATLAS_pixel_indices_512.dat',\n",
    "#                                                   preComputed_1024='preComputed_ATLAS_pixel_indices_1024.dat',\n",
    "#                                                   preComputed_2048='preComputed_ATLAS_pixel_indices_2048.dat')\n",
    "atlas_tileObj = rankedTilesGenerator.RankedTileGenerator(skymap_file, preComputed_256='preComputed_ATLAS_pixel_indices_256.dat')\n",
    "[atlas_ranked_tile_indices, atlas_ranked_tile_probs] = atlas_tileObj.getRankedTiles(resolution=256)\n",
    "atlas_tileObj.plotTiles(atlas_ranked_tile_indices, atlas_ranked_tile_probs, ATLAS_tile_file)\n"
   ]
  },
  {
   "cell_type": "code",
   "execution_count": null,
   "metadata": {
    "collapsed": true
   },
   "outputs": [],
   "source": []
  }
 ],
 "metadata": {
  "kernelspec": {
   "display_name": "Python 2",
   "language": "python",
   "name": "python2"
  },
  "language_info": {
   "codemirror_mode": {
    "name": "ipython",
    "version": 2
   },
   "file_extension": ".py",
   "mimetype": "text/x-python",
   "name": "python",
   "nbconvert_exporter": "python",
   "pygments_lexer": "ipython2",
   "version": "2.7.13"
  }
 },
 "nbformat": 4,
 "nbformat_minor": 2
}
